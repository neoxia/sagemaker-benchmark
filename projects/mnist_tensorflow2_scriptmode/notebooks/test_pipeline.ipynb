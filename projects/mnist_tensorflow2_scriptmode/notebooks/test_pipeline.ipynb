{
 "cells": [
  {
   "cell_type": "markdown",
   "metadata": {},
   "source": [
    "# Test Pipeline Notebook"
   ]
  },
  {
   "cell_type": "markdown",
   "metadata": {},
   "source": [
    "This notebook is used to test the training pipeline and deployment manually locally before executing it in the pipeline."
   ]
  },
  {
   "cell_type": "markdown",
   "metadata": {},
   "source": [
    "## Global vars and libraries"
   ]
  },
  {
   "cell_type": "markdown",
   "metadata": {},
   "source": [
    "Make sure you use sagemaker version >= 2.15.0 and tensorflow >= 2.0"
   ]
  },
  {
   "cell_type": "code",
   "execution_count": 2,
   "metadata": {},
   "outputs": [
    {
     "name": "stdout",
     "output_type": "stream",
     "text": [
      "Processing /home/ec2-user/.cache/pip/wheels/b5/af/5b/dd429efe1e5c3e5e54340ec49407c59ffe0a6bbdfde21ceb4b/sagemaker-2.15.0-py2.py3-none-any.whl\n",
      "Collecting smdebug-rulesconfig==0.1.5\n",
      "  Using cached smdebug_rulesconfig-0.1.5-py2.py3-none-any.whl (6.2 kB)\n",
      "Requirement already satisfied, skipping upgrade: boto3>=1.14.12 in /home/ec2-user/anaconda3/envs/amazonei_tensorflow2_p36/lib/python3.6/site-packages (from sagemaker==2.15.0) (1.15.16)\n",
      "Requirement already satisfied, skipping upgrade: packaging>=20.0 in /home/ec2-user/anaconda3/envs/amazonei_tensorflow2_p36/lib/python3.6/site-packages (from sagemaker==2.15.0) (20.1)\n",
      "Requirement already satisfied, skipping upgrade: numpy>=1.9.0 in /home/ec2-user/anaconda3/envs/amazonei_tensorflow2_p36/lib/python3.6/site-packages (from sagemaker==2.15.0) (1.18.1)\n",
      "Requirement already satisfied, skipping upgrade: protobuf>=3.1 in /home/ec2-user/anaconda3/envs/amazonei_tensorflow2_p36/lib/python3.6/site-packages (from sagemaker==2.15.0) (3.13.0)\n",
      "Requirement already satisfied, skipping upgrade: importlib-metadata>=1.4.0 in /home/ec2-user/anaconda3/envs/amazonei_tensorflow2_p36/lib/python3.6/site-packages (from sagemaker==2.15.0) (1.5.0)\n",
      "Requirement already satisfied, skipping upgrade: protobuf3-to-dict>=0.1.5 in /home/ec2-user/anaconda3/envs/amazonei_tensorflow2_p36/lib/python3.6/site-packages (from sagemaker==2.15.0) (0.1.5)\n",
      "Requirement already satisfied, skipping upgrade: google-pasta in /home/ec2-user/anaconda3/envs/amazonei_tensorflow2_p36/lib/python3.6/site-packages (from sagemaker==2.15.0) (0.2.0)\n",
      "Requirement already satisfied, skipping upgrade: jmespath<1.0.0,>=0.7.1 in /home/ec2-user/anaconda3/envs/amazonei_tensorflow2_p36/lib/python3.6/site-packages (from boto3>=1.14.12->sagemaker==2.15.0) (0.10.0)\n",
      "Requirement already satisfied, skipping upgrade: botocore<1.19.0,>=1.18.16 in /home/ec2-user/anaconda3/envs/amazonei_tensorflow2_p36/lib/python3.6/site-packages (from boto3>=1.14.12->sagemaker==2.15.0) (1.18.16)\n",
      "Requirement already satisfied, skipping upgrade: s3transfer<0.4.0,>=0.3.0 in /home/ec2-user/anaconda3/envs/amazonei_tensorflow2_p36/lib/python3.6/site-packages (from boto3>=1.14.12->sagemaker==2.15.0) (0.3.3)\n",
      "Requirement already satisfied, skipping upgrade: six in /home/ec2-user/anaconda3/envs/amazonei_tensorflow2_p36/lib/python3.6/site-packages (from packaging>=20.0->sagemaker==2.15.0) (1.14.0)\n",
      "Requirement already satisfied, skipping upgrade: pyparsing>=2.0.2 in /home/ec2-user/anaconda3/envs/amazonei_tensorflow2_p36/lib/python3.6/site-packages (from packaging>=20.0->sagemaker==2.15.0) (2.4.6)\n",
      "Requirement already satisfied, skipping upgrade: setuptools in /home/ec2-user/anaconda3/envs/amazonei_tensorflow2_p36/lib/python3.6/site-packages (from protobuf>=3.1->sagemaker==2.15.0) (45.2.0.post20200210)\n",
      "Requirement already satisfied, skipping upgrade: zipp>=0.5 in /home/ec2-user/anaconda3/envs/amazonei_tensorflow2_p36/lib/python3.6/site-packages (from importlib-metadata>=1.4.0->sagemaker==2.15.0) (2.2.0)\n",
      "Requirement already satisfied, skipping upgrade: urllib3<1.26,>=1.20; python_version != \"3.4\" in /home/ec2-user/anaconda3/envs/amazonei_tensorflow2_p36/lib/python3.6/site-packages (from botocore<1.19.0,>=1.18.16->boto3>=1.14.12->sagemaker==2.15.0) (1.25.10)\n",
      "Requirement already satisfied, skipping upgrade: python-dateutil<3.0.0,>=2.1 in /home/ec2-user/anaconda3/envs/amazonei_tensorflow2_p36/lib/python3.6/site-packages (from botocore<1.19.0,>=1.18.16->boto3>=1.14.12->sagemaker==2.15.0) (2.8.1)\n",
      "Installing collected packages: smdebug-rulesconfig, sagemaker\n",
      "  Attempting uninstall: smdebug-rulesconfig\n",
      "    Found existing installation: smdebug-rulesconfig 0.1.4\n",
      "    Uninstalling smdebug-rulesconfig-0.1.4:\n",
      "      Successfully uninstalled smdebug-rulesconfig-0.1.4\n",
      "  Attempting uninstall: sagemaker\n",
      "    Found existing installation: sagemaker 1.72.1\n",
      "    Uninstalling sagemaker-1.72.1:\n",
      "      Successfully uninstalled sagemaker-1.72.1\n",
      "Successfully installed sagemaker-2.15.0 smdebug-rulesconfig-0.1.5\n"
     ]
    },
    {
     "name": "stderr",
     "output_type": "stream",
     "text": [
      "WARNING: You are using pip version 20.0.2; however, version 20.2.4 is available.\n",
      "You should consider upgrading via the '/home/ec2-user/anaconda3/envs/amazonei_tensorflow2_p36/bin/python -m pip install --upgrade pip' command.\n"
     ]
    }
   ],
   "source": [
    "%%sh\n",
    "pip install --upgrade sagemaker==2.15.0"
   ]
  },
  {
   "cell_type": "code",
   "execution_count": 1,
   "metadata": {},
   "outputs": [
    {
     "name": "stdout",
     "output_type": "stream",
     "text": [
      "Please make sure SageMaker version == 2.15.0 and Tensorflow version == 2.0.3 (or more)\n",
      "SageMaker version:  2.15.0\n",
      "Tensorflow version : 2.0.3\n"
     ]
    }
   ],
   "source": [
    "# import libraries\n",
    "import os\n",
    "import json\n",
    "import yaml\n",
    "import tarfile\n",
    "import datetime\n",
    "from PIL import Image\n",
    "import numpy as np\n",
    "import csv\n",
    "import boto3\n",
    "import sagemaker\n",
    "from sagemaker.tensorflow.estimator import TensorFlow\n",
    "from sagemaker.tensorflow.model import TensorFlowModel, TensorFlowPredictor\n",
    "from sagemaker.tensorflow.serving import Model\n",
    "from sagemaker import get_execution_role\n",
    "import tensorflow as tf\n",
    "\n",
    "print(\"Please make sure SageMaker version == 2.15.0 and Tensorflow version == 2.0.3 (or more)\")\n",
    "print(\"SageMaker version: \", sagemaker.__version__)\n",
    "print(\"Tensorflow version :\", tf.__version__)"
   ]
  },
  {
   "cell_type": "code",
   "execution_count": 2,
   "metadata": {},
   "outputs": [
    {
     "name": "stdout",
     "output_type": "stream",
     "text": [
      "arn:aws:iam::288840635390:role/service-role/AmazonSageMaker-ExecutionRole-20180124T121654\n"
     ]
    }
   ],
   "source": [
    "print(get_execution_role())"
   ]
  },
  {
   "cell_type": "code",
   "execution_count": 4,
   "metadata": {},
   "outputs": [],
   "source": [
    "# global vars\n",
    "SESS = sagemaker.Session()\n",
    "DEFAULT_BUCKET = SESS.default_bucket()\n",
    "\n",
    "with open(\"../env.yml\", \"r\") as f:\n",
    "    env = yaml.load(f, Loader=yaml.FullLoader)\n",
    "\n",
    "PROJECT_ID = env[\"project_id\"]\n",
    "ENTRY_POINT_TRAIN = env[\"entry_point_train\"]\n",
    "ENTRY_POINT_INFERENCE = env[\"entry_point_inference\"]\n",
    "MODEL_ID = env[\"model_id\"]\n",
    "PYTHON_VERSION = env[\"python_version\"]\n",
    "FRAMEWORK_VERSION = env[\"framework_version\"]\n",
    "IMG_SIZE = env[\"img_size\"]\n",
    "BASE_JOB_NAME = MODEL_ID + \"-training-job\""
   ]
  },
  {
   "cell_type": "code",
   "execution_count": 5,
   "metadata": {},
   "outputs": [
    {
     "name": "stdout",
     "output_type": "stream",
     "text": [
      "This where the model output will be stored : s3://sagemaker-eu-west-1-288840635390/mnist-tensorflow2-scriptmode/training\n",
      "This is where the training source will be stored : s3://sagemaker-eu-west-1-288840635390/mnist-tensorflow2-scriptmode/training\n",
      "This is where the serving source will be stored : s3://sagemaker-eu-west-1-288840635390/mnist-tensorflow2-scriptmode/serving-model\n",
      "Base name of the training job : mnist-tf2-keras-model-training-job\n"
     ]
    }
   ],
   "source": [
    "MODEL_ARTIFACTS_S3_LOCATION = f\"s3://{DEFAULT_BUCKET}/{PROJECT_ID}/training\"\n",
    "CUSTOM_CODE_TRAIN_UPLOAD_S3_LOCATION = f\"s3://{DEFAULT_BUCKET}/{PROJECT_ID}/training\"\n",
    "CUSTOM_CODE_SERVING_UPLOAD_S3_LOCATION = f\"s3://{DEFAULT_BUCKET}/{PROJECT_ID}/serving-model\"\n",
    "TRAIN_DATA_S3_LOCATION = f\"s3://{DEFAULT_BUCKET}/{PROJECT_ID}/data/train\"\n",
    "TEST_DATA_S3_LOCATION = f\"s3://{DEFAULT_BUCKET}/{PROJECT_ID}/data/test\"\n",
    "\n",
    "print(\"This where the model output will be stored :\", MODEL_ARTIFACTS_S3_LOCATION)\n",
    "print(\"This is where the training source will be stored :\", CUSTOM_CODE_TRAIN_UPLOAD_S3_LOCATION)\n",
    "print(\"This is where the serving source will be stored :\", CUSTOM_CODE_SERVING_UPLOAD_S3_LOCATION)\n",
    "print(\"Base name of the training job :\", BASE_JOB_NAME)"
   ]
  },
  {
   "cell_type": "code",
   "execution_count": 6,
   "metadata": {},
   "outputs": [
    {
     "data": {
      "text/plain": [
       "{'input-shape': '(28, 28, 1)',\n",
       " 'num-classes': 10,\n",
       " 'epochs': 2,\n",
       " 'batch-size': 64,\n",
       " 'learning-rate': 0.01,\n",
       " 'optimizer': 'adam',\n",
       " 'momentum': 0.9,\n",
       " 'weight-decay': 0.01,\n",
       " 'l2-regul': 0.01,\n",
       " 'dropout': 0.1,\n",
       " 'cnn': [{'filters': 32,\n",
       "   'kernel': '(3, 3)',\n",
       "   'activation': 'relu',\n",
       "   'padding': 'same'},\n",
       "  {'filters': 32,\n",
       "   'kernel': '(3, 3)',\n",
       "   'activation': 'relu',\n",
       "   'padding': 'same'}],\n",
       " 'dense': [{'units': 128, 'activation': 'relu'}]}"
      ]
     },
     "execution_count": 6,
     "metadata": {},
     "output_type": "execute_result"
    }
   ],
   "source": [
    "hyperparameters = json.load(open(\"../pipeline/hyperparameters.json\", \"r\"))\n",
    "hyperparameters"
   ]
  },
  {
   "cell_type": "markdown",
   "metadata": {},
   "source": [
    "## Data"
   ]
  },
  {
   "cell_type": "code",
   "execution_count": 7,
   "metadata": {},
   "outputs": [
    {
     "name": "stdout",
     "output_type": "stream",
     "text": [
      "(784,)\n",
      "(28, 28)\n"
     ]
    },
    {
     "data": {
      "image/png": "[encoded data removed]",
      "text/plain": [
       "<PIL.Image.Image image mode=L size=256x256 at 0x7FECB6189630>"
      ]
     },
     "metadata": {},
     "output_type": "display_data"
    }
   ],
   "source": [
    "# get 2 data images in order to test predictions later on\n",
    "csv_input = \"0,0,0,0,0,0,0,0,0,0,0,0,0,0,0,0,0,0,0,0,0,0,0,0,0,0,0,0,0,0,0,0,0,0,0,0,0,0,0,0,0,0,0,0,0,0,0,0,0,0,0,0,0,0,0,0,0,0,0,0,0,0,0,0,0,0,0,0,0,0,0,0,0,0,0,0,0,0,0,0,0,0,0,0,0,0,0,0,0,0,0,0,0,0,0,0,0,0,0,0,0,0,0,0,0,0,0,0,0,0,0,0,0,0,0,0,0,0,0,0,0,0,0,0,0,0,0,0,0,0,0,0,0,0,0,0,0,0,0,0,0,0,0,0,0,0,0,0,0,0,0,0,0,41,149,156,179,254,254,201,119,46,0,0,0,0,0,0,0,0,0,0,0,0,0,0,0,0,0,13,147,241,253,253,254,253,253,253,253,245,160,0,0,0,0,0,0,0,0,0,0,0,0,0,0,0,31,224,253,253,180,174,175,174,174,174,174,223,247,145,6,0,0,0,0,0,0,0,0,0,0,0,0,7,197,254,253,165,2,0,0,0,0,0,0,12,102,184,16,0,0,0,0,0,0,0,0,0,0,0,0,152,253,254,162,18,0,0,0,0,0,0,0,0,0,0,0,0,0,0,0,0,0,0,0,0,0,0,0,235,254,158,15,0,0,0,0,0,0,0,0,0,0,0,0,0,0,0,0,0,0,0,0,0,0,0,74,250,253,15,0,0,0,16,20,19,0,0,0,0,0,0,0,0,0,0,0,0,0,0,0,0,0,7,199,253,253,0,0,25,130,235,254,247,145,6,0,0,0,0,0,0,0,0,0,0,0,0,0,0,0,20,253,253,177,100,219,240,253,253,254,253,253,125,0,0,0,0,0,0,0,0,0,0,0,0,0,0,0,5,193,253,253,254,253,253,200,155,155,238,253,229,23,0,0,0,0,0,0,0,0,0,0,0,0,0,0,0,61,249,254,241,150,30,0,0,0,215,254,254,58,0,0,0,0,0,0,0,0,0,0,0,0,0,0,0,0,36,39,30,0,0,0,0,0,214,253,234,31,0,0,0,0,0,0,0,0,0,0,0,0,0,0,0,0,0,0,0,0,0,0,0,41,241,253,183,0,0,0,0,0,0,0,0,0,0,0,0,0,0,0,0,0,0,0,0,0,0,0,0,201,253,253,102,0,0,0,0,0,0,0,0,0,0,0,0,0,0,0,0,0,0,0,0,0,0,0,114,254,253,154,5,0,0,0,0,0,0,0,0,0,0,0,0,0,0,0,0,0,0,0,0,0,0,62,254,255,241,30,0,0,0,0,0,0,0,0,0,0,0,0,0,0,0,0,0,0,0,0,0,10,118,235,253,249,103,0,0,0,0,0,0,0,0,0,0,0,0,0,0,0,0,0,0,55,81,0,102,211,253,253,253,135,0,0,0,0,0,0,0,0,0,0,0,0,0,0,0,0,0,0,0,79,243,234,254,253,253,216,117,0,0,0,0,0,0,0,0,0,0,0,0,0,0,0,0,0,0,0,0,48,245,253,254,207,126,27,0,0,0,0,0,0,0,0,0,0,0,0,0,0,0,0,0,0,0,0,0,0,0,0,0,0,0,0,0,0,0,0,0,0,0,0,0,0,0,0,0,0,0,0,0,0,0,0,0,0,0,0,0,0,0,0,0,0,0,0,0,0,0,0,0,0,0,0,0,0,0,0,0,0,0,0,0,0,0,0,0,0,0,0,0,0,0,0,0,0,0,0,0,0,0,0,0\\n0,0,0,0,0,0,0,0,0,0,0,0,0,0,0,0,0,0,0,0,0,0,0,0,0,0,0,0,0,0,0,0,0,0,0,0,0,0,0,0,0,0,0,0,0,0,0,0,0,0,0,0,0,0,0,0,0,0,0,0,0,0,0,0,0,0,0,0,0,0,0,0,0,0,0,0,0,0,0,0,0,0,0,0,0,0,0,0,0,0,0,0,0,0,0,0,0,0,0,0,0,0,0,0,0,0,0,0,0,0,0,0,0,0,0,0,0,0,0,0,0,0,0,0,0,0,0,0,0,0,0,0,0,0,0,0,0,0,0,0,0,0,0,0,0,0,220,179,6,0,0,0,0,0,0,0,0,9,77,0,0,0,0,0,0,0,0,0,0,0,0,0,0,0,28,247,17,0,0,0,0,0,0,0,0,27,202,0,0,0,0,0,0,0,0,0,0,0,0,0,0,0,0,242,155,0,0,0,0,0,0,0,0,27,254,63,0,0,0,0,0,0,0,0,0,0,0,0,0,0,0,160,207,6,0,0,0,0,0,0,0,27,254,65,0,0,0,0,0,0,0,0,0,0,0,0,0,0,0,127,254,21,0,0,0,0,0,0,0,20,239,65,0,0,0,0,0,0,0,0,0,0,0,0,0,0,0,77,254,21,0,0,0,0,0,0,0,0,195,65,0,0,0,0,0,0,0,0,0,0,0,0,0,0,0,70,254,21,0,0,0,0,0,0,0,0,195,142,0,0,0,0,0,0,0,0,0,0,0,0,0,0,0,56,251,21,0,0,0,0,0,0,0,0,195,227,0,0,0,0,0,0,0,0,0,0,0,0,0,0,0,0,222,153,5,0,0,0,0,0,0,0,120,240,13,0,0,0,0,0,0,0,0,0,0,0,0,0,0,0,67,251,40,0,0,0,0,0,0,0,94,255,69,0,0,0,0,0,0,0,0,0,0,0,0,0,0,0,0,234,184,0,0,0,0,0,0,0,19,245,69,0,0,0,0,0,0,0,0,0,0,0,0,0,0,0,0,234,169,0,0,0,0,0,0,0,3,199,182,10,0,0,0,0,0,0,0,0,0,0,0,0,0,0,0,154,205,4,0,0,26,72,128,203,208,254,254,131,0,0,0,0,0,0,0,0,0,0,0,0,0,0,0,61,254,129,113,186,245,251,189,75,56,136,254,73,0,0,0,0,0,0,0,0,0,0,0,0,0,0,0,15,216,233,233,159,104,52,0,0,0,38,254,73,0,0,0,0,0,0,0,0,0,0,0,0,0,0,0,0,0,0,0,0,0,0,0,0,0,18,254,73,0,0,0,0,0,0,0,0,0,0,0,0,0,0,0,0,0,0,0,0,0,0,0,0,0,18,254,73,0,0,0,0,0,0,0,0,0,0,0,0,0,0,0,0,0,0,0,0,0,0,0,0,0,5,206,106,0,0,0,0,0,0,0,0,0,0,0,0,0,0,0,0,0,0,0,0,0,0,0,0,0,0,186,159,0,0,0,0,0,0,0,0,0,0,0,0,0,0,0,0,0,0,0,0,0,0,0,0,0,6,209,101,0,0,0,0,0,0,0,0,0,0,0,0,0,0,0,0,0,0,0,0,0,0,0,0,0,0,0,0,0,0,0,0,0,0,0,0,0,0,0,0,0,0,0,0,0,0,0,0,0,0,0,0,0,0,0,0,0,0,0,0,0,0,0,0,0,0,0,0,0,0,0,0,0,0,0,0,0,0,0,0,0,0,0,0,0,0,0,0,0,0\"\n",
    "elements = csv_input.split(\"\\n\")\n",
    "json_input = str([list(map(int, e.split(\",\"))) for e in elements])\n",
    "\n",
    "five_img_data = \"0,0,0,0,0,0,0,0,0,0,0,0,0,0,0,0,0,0,0,0,0,0,0,0,0,0,0,0,0,0,0,0,0,0,0,0,0,0,0,0,0,0,0,0,0,0,0,0,0,0,0,0,0,0,0,0,0,0,0,0,0,0,0,0,0,0,0,0,0,0,0,0,0,0,0,0,0,0,0,0,0,0,0,0,0,0,0,0,0,0,0,0,0,0,0,0,0,0,0,0,0,0,0,0,0,0,0,0,0,0,0,0,0,0,0,0,0,0,0,0,0,0,0,0,0,0,0,0,0,0,0,0,0,0,0,0,0,0,0,0,0,0,0,0,0,0,0,0,0,0,0,0,0,41,149,156,179,254,254,201,119,46,0,0,0,0,0,0,0,0,0,0,0,0,0,0,0,0,0,13,147,241,253,253,254,253,253,253,253,245,160,0,0,0,0,0,0,0,0,0,0,0,0,0,0,0,31,224,253,253,180,174,175,174,174,174,174,223,247,145,6,0,0,0,0,0,0,0,0,0,0,0,0,7,197,254,253,165,2,0,0,0,0,0,0,12,102,184,16,0,0,0,0,0,0,0,0,0,0,0,0,152,253,254,162,18,0,0,0,0,0,0,0,0,0,0,0,0,0,0,0,0,0,0,0,0,0,0,0,235,254,158,15,0,0,0,0,0,0,0,0,0,0,0,0,0,0,0,0,0,0,0,0,0,0,0,74,250,253,15,0,0,0,16,20,19,0,0,0,0,0,0,0,0,0,0,0,0,0,0,0,0,0,7,199,253,253,0,0,25,130,235,254,247,145,6,0,0,0,0,0,0,0,0,0,0,0,0,0,0,0,20,253,253,177,100,219,240,253,253,254,253,253,125,0,0,0,0,0,0,0,0,0,0,0,0,0,0,0,5,193,253,253,254,253,253,200,155,155,238,253,229,23,0,0,0,0,0,0,0,0,0,0,0,0,0,0,0,61,249,254,241,150,30,0,0,0,215,254,254,58,0,0,0,0,0,0,0,0,0,0,0,0,0,0,0,0,36,39,30,0,0,0,0,0,214,253,234,31,0,0,0,0,0,0,0,0,0,0,0,0,0,0,0,0,0,0,0,0,0,0,0,41,241,253,183,0,0,0,0,0,0,0,0,0,0,0,0,0,0,0,0,0,0,0,0,0,0,0,0,201,253,253,102,0,0,0,0,0,0,0,0,0,0,0,0,0,0,0,0,0,0,0,0,0,0,0,114,254,253,154,5,0,0,0,0,0,0,0,0,0,0,0,0,0,0,0,0,0,0,0,0,0,0,62,254,255,241,30,0,0,0,0,0,0,0,0,0,0,0,0,0,0,0,0,0,0,0,0,0,10,118,235,253,249,103,0,0,0,0,0,0,0,0,0,0,0,0,0,0,0,0,0,0,55,81,0,102,211,253,253,253,135,0,0,0,0,0,0,0,0,0,0,0,0,0,0,0,0,0,0,0,79,243,234,254,253,253,216,117,0,0,0,0,0,0,0,0,0,0,0,0,0,0,0,0,0,0,0,0,48,245,253,254,207,126,27,0,0,0,0,0,0,0,0,0,0,0,0,0,0,0,0,0,0,0,0,0,0,0,0,0,0,0,0,0,0,0,0,0,0,0,0,0,0,0,0,0,0,0,0,0,0,0,0,0,0,0,0,0,0,0,0,0,0,0,0,0,0,0,0,0,0,0,0,0,0,0,0,0,0,0,0,0,0,0,0,0,0,0,0,0,0,0,0,0,0,0,0,0,0,0,0,0\"\n",
    "five_arr = np.fromstring(five_img_data, sep=\",\")\n",
    "print(five_arr.shape)\n",
    "five_arr = five_arr.reshape((IMG_SIZE, IMG_SIZE))\n",
    "print(five_arr.shape)\n",
    "display(Image.fromarray(five_arr).convert(\"L\").resize((256, 256)))\n",
    "five_arr = np.expand_dims(five_arr, (0, -1))"
   ]
  },
  {
   "cell_type": "code",
   "execution_count": 8,
   "metadata": {},
   "outputs": [
    {
     "name": "stdout",
     "output_type": "stream",
     "text": [
      "(2, 28, 28, 1)\n"
     ]
    },
    {
     "data": {
      "image/png": "[encoded data removed]",
      "text/plain": [
       "<PIL.Image.Image image mode=L size=256x256 at 0x7FECB6193BE0>"
      ]
     },
     "metadata": {},
     "output_type": "display_data"
    }
   ],
   "source": [
    "# ------------ Verify that the inference input handler actually work as expected ----------\n",
    "### CSV INPUT ###\n",
    "d = csv_input.split(\"\\n\")\n",
    "for i, e in enumerate(d):\n",
    "    array = np.fromstring(e, sep=\",\")\n",
    "    array = array.reshape((1, IMG_SIZE, IMG_SIZE, 1))\n",
    "    if i == 0:\n",
    "        _input = array\n",
    "    else:\n",
    "        _input = np.concatenate([_input, array], axis=0)\n",
    "print(_input.shape)\n",
    "display(Image.fromarray(np.squeeze(_input[1])).convert(\"L\").resize((256, 256)))"
   ]
  },
  {
   "cell_type": "code",
   "execution_count": 9,
   "metadata": {},
   "outputs": [
    {
     "name": "stdout",
     "output_type": "stream",
     "text": [
      "(2, 28, 28, 1)\n"
     ]
    }
   ],
   "source": [
    "### JSON INPUT ###\n",
    "tmp = json.loads(json_input)\n",
    "for i, e in enumerate(tmp):\n",
    "    array = np.asarray(e)\n",
    "    array = array.reshape((1, IMG_SIZE, IMG_SIZE, 1))\n",
    "    if i == 0:\n",
    "        _input = array\n",
    "    else:\n",
    "        _input = np.concatenate([_input, array], axis=0)\n",
    "print(_input.shape)"
   ]
  },
  {
   "cell_type": "markdown",
   "metadata": {},
   "source": [
    "## Train and test locally"
   ]
  },
  {
   "cell_type": "code",
   "execution_count": 10,
   "metadata": {},
   "outputs": [],
   "source": [
    "# build the estimator\n",
    "estimator = TensorFlow(entry_point=ENTRY_POINT_TRAIN,\n",
    "                       source_dir=\"../source_dir\",\n",
    "                       output_path=MODEL_ARTIFACTS_S3_LOCATION,\n",
    "                       code_location=CUSTOM_CODE_TRAIN_UPLOAD_S3_LOCATION,\n",
    "                       base_job_name=BASE_JOB_NAME,\n",
    "                       role=get_execution_role(),\n",
    "                       framework_version=FRAMEWORK_VERSION,\n",
    "                       hyperparameters=hyperparameters,\n",
    "                       instance_count=1,\n",
    "                       py_version=PYTHON_VERSION,\n",
    "                       instance_type=\"local\", #\"ml.m4.xlarge\",\n",
    "                       distributions={'parameter_server': {'enabled': True}},\n",
    "                       session=SESS,\n",
    "                       enable_network_isolation=False)"
   ]
  },
  {
   "cell_type": "code",
   "execution_count": 11,
   "metadata": {},
   "outputs": [
    {
     "name": "stdout",
     "output_type": "stream",
     "text": [
      "Creating tmpcwpo8ped_algo-1-e1s31_1 ... \n",
      "\u001b[1BAttaching to tmpcwpo8ped_algo-1-e1s31_12mdone\u001b[0m\n",
      "\u001b[36malgo-1-e1s31_1  |\u001b[0m 2020-11-03 17:36:31,470 sagemaker-containers INFO     Imported framework sagemaker_tensorflow_container.training\n",
      "\u001b[36malgo-1-e1s31_1  |\u001b[0m 2020-11-03 17:36:31,477 sagemaker-containers INFO     No GPUs detected (normal if no gpus installed)\n",
      "\u001b[36malgo-1-e1s31_1  |\u001b[0m 2020-11-03 17:36:32,681 sagemaker-containers INFO     No GPUs detected (normal if no gpus installed)\n",
      "\u001b[36malgo-1-e1s31_1  |\u001b[0m 2020-11-03 17:36:32,699 sagemaker-containers INFO     No GPUs detected (normal if no gpus installed)\n",
      "\u001b[36malgo-1-e1s31_1  |\u001b[0m 2020-11-03 17:36:32,717 sagemaker-containers INFO     No GPUs detected (normal if no gpus installed)\n",
      "\u001b[36malgo-1-e1s31_1  |\u001b[0m 2020-11-03 17:36:32,729 sagemaker-containers INFO     Invoking user script\n",
      "\u001b[36malgo-1-e1s31_1  |\u001b[0m \n",
      "\u001b[36malgo-1-e1s31_1  |\u001b[0m Training Env:\n",
      "\u001b[36malgo-1-e1s31_1  |\u001b[0m \n",
      "\u001b[36malgo-1-e1s31_1  |\u001b[0m {\n",
      "\u001b[36malgo-1-e1s31_1  |\u001b[0m     \"additional_framework_parameters\": {},\n",
      "\u001b[36malgo-1-e1s31_1  |\u001b[0m     \"channel_input_dirs\": {\n",
      "\u001b[36malgo-1-e1s31_1  |\u001b[0m         \"train\": \"/opt/ml/input/data/train\",\n",
      "\u001b[36malgo-1-e1s31_1  |\u001b[0m         \"test\": \"/opt/ml/input/data/test\"\n",
      "\u001b[36malgo-1-e1s31_1  |\u001b[0m     },\n",
      "\u001b[36malgo-1-e1s31_1  |\u001b[0m     \"current_host\": \"algo-1-e1s31\",\n",
      "\u001b[36malgo-1-e1s31_1  |\u001b[0m     \"framework_module\": \"sagemaker_tensorflow_container.training:main\",\n",
      "\u001b[36malgo-1-e1s31_1  |\u001b[0m     \"hosts\": [\n",
      "\u001b[36malgo-1-e1s31_1  |\u001b[0m         \"algo-1-e1s31\"\n",
      "\u001b[36malgo-1-e1s31_1  |\u001b[0m     ],\n",
      "\u001b[36malgo-1-e1s31_1  |\u001b[0m     \"hyperparameters\": {\n",
      "\u001b[36malgo-1-e1s31_1  |\u001b[0m         \"input-shape\": \"(28, 28, 1)\",\n",
      "\u001b[36malgo-1-e1s31_1  |\u001b[0m         \"num-classes\": 10,\n",
      "\u001b[36malgo-1-e1s31_1  |\u001b[0m         \"epochs\": 2,\n",
      "\u001b[36malgo-1-e1s31_1  |\u001b[0m         \"batch-size\": 64,\n",
      "\u001b[36malgo-1-e1s31_1  |\u001b[0m         \"learning-rate\": 0.01,\n",
      "\u001b[36malgo-1-e1s31_1  |\u001b[0m         \"optimizer\": \"adam\",\n",
      "\u001b[36malgo-1-e1s31_1  |\u001b[0m         \"momentum\": 0.9,\n",
      "\u001b[36malgo-1-e1s31_1  |\u001b[0m         \"weight-decay\": 0.01,\n",
      "\u001b[36malgo-1-e1s31_1  |\u001b[0m         \"l2-regul\": 0.01,\n",
      "\u001b[36malgo-1-e1s31_1  |\u001b[0m         \"dropout\": 0.1,\n",
      "\u001b[36malgo-1-e1s31_1  |\u001b[0m         \"cnn\": [\n",
      "\u001b[36malgo-1-e1s31_1  |\u001b[0m             {\n",
      "\u001b[36malgo-1-e1s31_1  |\u001b[0m                 \"filters\": 32,\n",
      "\u001b[36malgo-1-e1s31_1  |\u001b[0m                 \"kernel\": \"(3, 3)\",\n",
      "\u001b[36malgo-1-e1s31_1  |\u001b[0m                 \"activation\": \"relu\",\n",
      "\u001b[36malgo-1-e1s31_1  |\u001b[0m                 \"padding\": \"same\"\n",
      "\u001b[36malgo-1-e1s31_1  |\u001b[0m             },\n",
      "\u001b[36malgo-1-e1s31_1  |\u001b[0m             {\n",
      "\u001b[36malgo-1-e1s31_1  |\u001b[0m                 \"filters\": 32,\n",
      "\u001b[36malgo-1-e1s31_1  |\u001b[0m                 \"kernel\": \"(3, 3)\",\n",
      "\u001b[36malgo-1-e1s31_1  |\u001b[0m                 \"activation\": \"relu\",\n",
      "\u001b[36malgo-1-e1s31_1  |\u001b[0m                 \"padding\": \"same\"\n",
      "\u001b[36malgo-1-e1s31_1  |\u001b[0m             }\n",
      "\u001b[36malgo-1-e1s31_1  |\u001b[0m         ],\n",
      "\u001b[36malgo-1-e1s31_1  |\u001b[0m         \"dense\": [\n",
      "\u001b[36malgo-1-e1s31_1  |\u001b[0m             {\n",
      "\u001b[36malgo-1-e1s31_1  |\u001b[0m                 \"units\": 128,\n",
      "\u001b[36malgo-1-e1s31_1  |\u001b[0m                 \"activation\": \"relu\"\n",
      "\u001b[36malgo-1-e1s31_1  |\u001b[0m             }\n",
      "\u001b[36malgo-1-e1s31_1  |\u001b[0m         ],\n",
      "\u001b[36malgo-1-e1s31_1  |\u001b[0m         \"model_dir\": \"s3://sagemaker-eu-west-1-288840635390/mnist-tensorflow2-scriptmode/training/mnist-tf2-keras-model-training-job-2020-11-03-17-35-34-837/model\"\n",
      "\u001b[36malgo-1-e1s31_1  |\u001b[0m     },\n",
      "\u001b[36malgo-1-e1s31_1  |\u001b[0m     \"input_config_dir\": \"/opt/ml/input/config\",\n",
      "\u001b[36malgo-1-e1s31_1  |\u001b[0m     \"input_data_config\": {\n",
      "\u001b[36malgo-1-e1s31_1  |\u001b[0m         \"train\": {\n",
      "\u001b[36malgo-1-e1s31_1  |\u001b[0m             \"TrainingInputMode\": \"File\"\n",
      "\u001b[36malgo-1-e1s31_1  |\u001b[0m         },\n",
      "\u001b[36malgo-1-e1s31_1  |\u001b[0m         \"test\": {\n",
      "\u001b[36malgo-1-e1s31_1  |\u001b[0m             \"TrainingInputMode\": \"File\"\n",
      "\u001b[36malgo-1-e1s31_1  |\u001b[0m         }\n",
      "\u001b[36malgo-1-e1s31_1  |\u001b[0m     },\n",
      "\u001b[36malgo-1-e1s31_1  |\u001b[0m     \"input_dir\": \"/opt/ml/input\",\n",
      "\u001b[36malgo-1-e1s31_1  |\u001b[0m     \"is_master\": true,\n",
      "\u001b[36malgo-1-e1s31_1  |\u001b[0m     \"job_name\": \"mnist-tf2-keras-model-training-job-2020-11-03-17-35-34-837\",\n",
      "\u001b[36malgo-1-e1s31_1  |\u001b[0m     \"log_level\": 20,\n",
      "\u001b[36malgo-1-e1s31_1  |\u001b[0m     \"master_hostname\": \"algo-1-e1s31\",\n",
      "\u001b[36malgo-1-e1s31_1  |\u001b[0m     \"model_dir\": \"/opt/ml/model\",\n",
      "\u001b[36malgo-1-e1s31_1  |\u001b[0m     \"module_dir\": \"s3://sagemaker-eu-west-1-288840635390/mnist-tensorflow2-scriptmode/training/mnist-tf2-keras-model-training-job-2020-11-03-17-35-34-837/source/sourcedir.tar.gz\",\n",
      "\u001b[36malgo-1-e1s31_1  |\u001b[0m     \"module_name\": \"train\",\n",
      "\u001b[36malgo-1-e1s31_1  |\u001b[0m     \"network_interface_name\": \"eth0\",\n",
      "\u001b[36malgo-1-e1s31_1  |\u001b[0m     \"num_cpus\": 2,\n",
      "\u001b[36malgo-1-e1s31_1  |\u001b[0m     \"num_gpus\": 0,\n",
      "\u001b[36malgo-1-e1s31_1  |\u001b[0m     \"output_data_dir\": \"/opt/ml/output/data\",\n",
      "\u001b[36malgo-1-e1s31_1  |\u001b[0m     \"output_dir\": \"/opt/ml/output\",\n",
      "\u001b[36malgo-1-e1s31_1  |\u001b[0m     \"output_intermediate_dir\": \"/opt/ml/output/intermediate\",\n",
      "\u001b[36malgo-1-e1s31_1  |\u001b[0m     \"resource_config\": {\n",
      "\u001b[36malgo-1-e1s31_1  |\u001b[0m         \"current_host\": \"algo-1-e1s31\",\n",
      "\u001b[36malgo-1-e1s31_1  |\u001b[0m         \"hosts\": [\n",
      "\u001b[36malgo-1-e1s31_1  |\u001b[0m             \"algo-1-e1s31\"\n",
      "\u001b[36malgo-1-e1s31_1  |\u001b[0m         ]\n",
      "\u001b[36malgo-1-e1s31_1  |\u001b[0m     },\n",
      "\u001b[36malgo-1-e1s31_1  |\u001b[0m     \"user_entry_point\": \"train.py\"\n",
      "\u001b[36malgo-1-e1s31_1  |\u001b[0m }\n",
      "\u001b[36malgo-1-e1s31_1  |\u001b[0m \n",
      "\u001b[36malgo-1-e1s31_1  |\u001b[0m Environment variables:\n",
      "\u001b[36malgo-1-e1s31_1  |\u001b[0m \n",
      "\u001b[36malgo-1-e1s31_1  |\u001b[0m SM_HOSTS=[\"algo-1-e1s31\"]\n",
      "\u001b[36malgo-1-e1s31_1  |\u001b[0m SM_NETWORK_INTERFACE_NAME=eth0\n",
      "\u001b[36malgo-1-e1s31_1  |\u001b[0m SM_HPS={\"batch-size\":64,\"cnn\":[{\"activation\":\"relu\",\"filters\":32,\"kernel\":\"(3, 3)\",\"padding\":\"same\"},{\"activation\":\"relu\",\"filters\":32,\"kernel\":\"(3, 3)\",\"padding\":\"same\"}],\"dense\":[{\"activation\":\"relu\",\"units\":128}],\"dropout\":0.1,\"epochs\":2,\"input-shape\":\"(28, 28, 1)\",\"l2-regul\":0.01,\"learning-rate\":0.01,\"model_dir\":\"s3://sagemaker-eu-west-1-288840635390/mnist-tensorflow2-scriptmode/training/mnist-tf2-keras-model-training-job-2020-11-03-17-35-34-837/model\",\"momentum\":0.9,\"num-classes\":10,\"optimizer\":\"adam\",\"weight-decay\":0.01}\n",
      "\u001b[36malgo-1-e1s31_1  |\u001b[0m SM_USER_ENTRY_POINT=train.py\n",
      "\u001b[36malgo-1-e1s31_1  |\u001b[0m SM_FRAMEWORK_PARAMS={}\n",
      "\u001b[36malgo-1-e1s31_1  |\u001b[0m SM_RESOURCE_CONFIG={\"current_host\":\"algo-1-e1s31\",\"hosts\":[\"algo-1-e1s31\"]}\n",
      "\u001b[36malgo-1-e1s31_1  |\u001b[0m SM_INPUT_DATA_CONFIG={\"test\":{\"TrainingInputMode\":\"File\"},\"train\":{\"TrainingInputMode\":\"File\"}}\n",
      "\u001b[36malgo-1-e1s31_1  |\u001b[0m SM_OUTPUT_DATA_DIR=/opt/ml/output/data\n",
      "\u001b[36malgo-1-e1s31_1  |\u001b[0m SM_CHANNELS=[\"test\",\"train\"]\n",
      "\u001b[36malgo-1-e1s31_1  |\u001b[0m SM_CURRENT_HOST=algo-1-e1s31\n",
      "\u001b[36malgo-1-e1s31_1  |\u001b[0m SM_MODULE_NAME=train\n",
      "\u001b[36malgo-1-e1s31_1  |\u001b[0m SM_LOG_LEVEL=20\n",
      "\u001b[36malgo-1-e1s31_1  |\u001b[0m SM_FRAMEWORK_MODULE=sagemaker_tensorflow_container.training:main\n",
      "\u001b[36malgo-1-e1s31_1  |\u001b[0m SM_INPUT_DIR=/opt/ml/input\n",
      "\u001b[36malgo-1-e1s31_1  |\u001b[0m SM_INPUT_CONFIG_DIR=/opt/ml/input/config\n",
      "\u001b[36malgo-1-e1s31_1  |\u001b[0m SM_OUTPUT_DIR=/opt/ml/output\n",
      "\u001b[36malgo-1-e1s31_1  |\u001b[0m SM_NUM_CPUS=2\n",
      "\u001b[36malgo-1-e1s31_1  |\u001b[0m SM_NUM_GPUS=0\n",
      "\u001b[36malgo-1-e1s31_1  |\u001b[0m SM_MODEL_DIR=/opt/ml/model\n",
      "\u001b[36malgo-1-e1s31_1  |\u001b[0m SM_MODULE_DIR=s3://sagemaker-eu-west-1-288840635390/mnist-tensorflow2-scriptmode/training/mnist-tf2-keras-model-training-job-2020-11-03-17-35-34-837/source/sourcedir.tar.gz\n",
      "\u001b[36malgo-1-e1s31_1  |\u001b[0m SM_TRAINING_ENV={\"additional_framework_parameters\":{},\"channel_input_dirs\":{\"test\":\"/opt/ml/input/data/test\",\"train\":\"/opt/ml/input/data/train\"},\"current_host\":\"algo-1-e1s31\",\"framework_module\":\"sagemaker_tensorflow_container.training:main\",\"hosts\":[\"algo-1-e1s31\"],\"hyperparameters\":{\"batch-size\":64,\"cnn\":[{\"activation\":\"relu\",\"filters\":32,\"kernel\":\"(3, 3)\",\"padding\":\"same\"},{\"activation\":\"relu\",\"filters\":32,\"kernel\":\"(3, 3)\",\"padding\":\"same\"}],\"dense\":[{\"activation\":\"relu\",\"units\":128}],\"dropout\":0.1,\"epochs\":2,\"input-shape\":\"(28, 28, 1)\",\"l2-regul\":0.01,\"learning-rate\":0.01,\"model_dir\":\"s3://sagemaker-eu-west-1-288840635390/mnist-tensorflow2-scriptmode/training/mnist-tf2-keras-model-training-job-2020-11-03-17-35-34-837/model\",\"momentum\":0.9,\"num-classes\":10,\"optimizer\":\"adam\",\"weight-decay\":0.01},\"input_config_dir\":\"/opt/ml/input/config\",\"input_data_config\":{\"test\":{\"TrainingInputMode\":\"File\"},\"train\":{\"TrainingInputMode\":\"File\"}},\"input_dir\":\"/opt/ml/input\",\"is_master\":true,\"job_name\":\"mnist-tf2-keras-model-training-job-2020-11-03-17-35-34-837\",\"log_level\":20,\"master_hostname\":\"algo-1-e1s31\",\"model_dir\":\"/opt/ml/model\",\"module_dir\":\"s3://sagemaker-eu-west-1-288840635390/mnist-tensorflow2-scriptmode/training/mnist-tf2-keras-model-training-job-2020-11-03-17-35-34-837/source/sourcedir.tar.gz\",\"module_name\":\"train\",\"network_interface_name\":\"eth0\",\"num_cpus\":2,\"num_gpus\":0,\"output_data_dir\":\"/opt/ml/output/data\",\"output_dir\":\"/opt/ml/output\",\"output_intermediate_dir\":\"/opt/ml/output/intermediate\",\"resource_config\":{\"current_host\":\"algo-1-e1s31\",\"hosts\":[\"algo-1-e1s31\"]},\"user_entry_point\":\"train.py\"}\n",
      "\u001b[36malgo-1-e1s31_1  |\u001b[0m SM_USER_ARGS=[\"--batch-size\",\"64\",\"--cnn\",\"[{'filters': 32, 'kernel': '(3, 3)', 'activation': 'relu', 'padding': 'same'}, {'filters': 32, 'kernel': '(3, 3)', 'activation': 'relu', 'padding': 'same'}]\",\"--dense\",\"[{'units': 128, 'activation': 'relu'}]\",\"--dropout\",\"0.1\",\"--epochs\",\"2\",\"--input-shape\",\"(28, 28, 1)\",\"--l2-regul\",\"0.01\",\"--learning-rate\",\"0.01\",\"--model_dir\",\"s3://sagemaker-eu-west-1-288840635390/mnist-tensorflow2-scriptmode/training/mnist-tf2-keras-model-training-job-2020-11-03-17-35-34-837/model\",\"--momentum\",\"0.9\",\"--num-classes\",\"10\",\"--optimizer\",\"adam\",\"--weight-decay\",\"0.01\"]\n",
      "\u001b[36malgo-1-e1s31_1  |\u001b[0m SM_OUTPUT_INTERMEDIATE_DIR=/opt/ml/output/intermediate\n",
      "\u001b[36malgo-1-e1s31_1  |\u001b[0m SM_CHANNEL_TRAIN=/opt/ml/input/data/train\n",
      "\u001b[36malgo-1-e1s31_1  |\u001b[0m SM_CHANNEL_TEST=/opt/ml/input/data/test\n",
      "\u001b[36malgo-1-e1s31_1  |\u001b[0m SM_HP_INPUT-SHAPE=(28, 28, 1)\n",
      "\u001b[36malgo-1-e1s31_1  |\u001b[0m SM_HP_NUM-CLASSES=10\n",
      "\u001b[36malgo-1-e1s31_1  |\u001b[0m SM_HP_EPOCHS=2\n",
      "\u001b[36malgo-1-e1s31_1  |\u001b[0m SM_HP_BATCH-SIZE=64\n",
      "\u001b[36malgo-1-e1s31_1  |\u001b[0m SM_HP_LEARNING-RATE=0.01\n",
      "\u001b[36malgo-1-e1s31_1  |\u001b[0m SM_HP_OPTIMIZER=adam\n",
      "\u001b[36malgo-1-e1s31_1  |\u001b[0m SM_HP_MOMENTUM=0.9\n",
      "\u001b[36malgo-1-e1s31_1  |\u001b[0m SM_HP_WEIGHT-DECAY=0.01\n",
      "\u001b[36malgo-1-e1s31_1  |\u001b[0m SM_HP_L2-REGUL=0.01\n",
      "\u001b[36malgo-1-e1s31_1  |\u001b[0m SM_HP_DROPOUT=0.1\n",
      "\u001b[36malgo-1-e1s31_1  |\u001b[0m SM_HP_CNN=[{\"activation\":\"relu\",\"filters\":32,\"kernel\":\"(3, 3)\",\"padding\":\"same\"},{\"activation\":\"relu\",\"filters\":32,\"kernel\":\"(3, 3)\",\"padding\":\"same\"}]\n",
      "\u001b[36malgo-1-e1s31_1  |\u001b[0m SM_HP_DENSE=[{\"activation\":\"relu\",\"units\":128}]\n",
      "\u001b[36malgo-1-e1s31_1  |\u001b[0m SM_HP_MODEL_DIR=s3://sagemaker-eu-west-1-288840635390/mnist-tensorflow2-scriptmode/training/mnist-tf2-keras-model-training-job-2020-11-03-17-35-34-837/model\n",
      "\u001b[36malgo-1-e1s31_1  |\u001b[0m PYTHONPATH=/opt/ml/code:/usr/local/bin:/usr/lib/python36.zip:/usr/lib/python3.6:/usr/lib/python3.6/lib-dynload:/usr/local/lib/python3.6/dist-packages:/usr/lib/python3/dist-packages\n",
      "\u001b[36malgo-1-e1s31_1  |\u001b[0m \n",
      "\u001b[36malgo-1-e1s31_1  |\u001b[0m Invoking script with the following command:\n",
      "\u001b[36malgo-1-e1s31_1  |\u001b[0m \n",
      "\u001b[36malgo-1-e1s31_1  |\u001b[0m /usr/bin/python3 train.py --batch-size 64 --cnn [{'filters': 32, 'kernel': '(3, 3)', 'activation': 'relu', 'padding': 'same'}, {'filters': 32, 'kernel': '(3, 3)', 'activation': 'relu', 'padding': 'same'}] --dense [{'units': 128, 'activation': 'relu'}] --dropout 0.1 --epochs 2 --input-shape (28, 28, 1) --l2-regul 0.01 --learning-rate 0.01 --model_dir s3://sagemaker-eu-west-1-288840635390/mnist-tensorflow2-scriptmode/training/mnist-tf2-keras-model-training-job-2020-11-03-17-35-34-837/model --momentum 0.9 --num-classes 10 --optimizer adam --weight-decay 0.01\n",
      "\u001b[36malgo-1-e1s31_1  |\u001b[0m \n",
      "\u001b[36malgo-1-e1s31_1  |\u001b[0m \n",
      "\u001b[36malgo-1-e1s31_1  |\u001b[0m ------ INSTALL REQUIREMENTS ------\n",
      "\u001b[36malgo-1-e1s31_1  |\u001b[0m Collecting pip\n",
      "\u001b[36malgo-1-e1s31_1  |\u001b[0m   Downloading pip-20.2.4-py2.py3-none-any.whl (1.5 MB)\n",
      "\u001b[K     |████████████████████████████████| 1.5 MB 9.5 MB/s eta 0:00:01\n",
      "\u001b[36malgo-1-e1s31_1  |\u001b[0m \u001b[?25hInstalling collected packages: pip\n",
      "\u001b[36malgo-1-e1s31_1  |\u001b[0m   Attempting uninstall: pip\n",
      "\u001b[36malgo-1-e1s31_1  |\u001b[0m     Found existing installation: pip 20.0.2\n",
      "\u001b[36malgo-1-e1s31_1  |\u001b[0m     Uninstalling pip-20.0.2:\n",
      "\u001b[36malgo-1-e1s31_1  |\u001b[0m       Successfully uninstalled pip-20.0.2\n",
      "\u001b[36malgo-1-e1s31_1  |\u001b[0m Successfully installed pip-20.2.4\n",
      "\u001b[36malgo-1-e1s31_1  |\u001b[0m Requirement already satisfied: numpy in /usr/local/lib/python3.6/dist-packages (from -r requirements.txt (line 1)) (1.18.1)\n",
      "\u001b[36malgo-1-e1s31_1  |\u001b[0m INFO:root:------ Getting data ------\n",
      "\u001b[36malgo-1-e1s31_1  |\u001b[0m INFO:root:------ Configuring model ------\n",
      "\u001b[36malgo-1-e1s31_1  |\u001b[0m hyperparameters {'train': '/opt/ml/input/data/train', 'validation': None, 'test': '/opt/ml/input/data/test', 'model_dir': 's3://sagemaker-eu-west-1-288840635390/mnist-tensorflow2-scriptmode/training/mnist-tf2-keras-model-training-job-2020-11-03-17-35-34-837/model', 'model_output_dir': '/opt/ml/model', 'output_dir': '/opt/ml/output', 'data_config': {'test': {'TrainingInputMode': 'File'}, 'train': {'TrainingInputMode': 'File'}}, 'fw_params': {}, 'input_shape': '(28, 28, 1)', 'num_classes': '10', 'epochs': '2', 'batch_size': '64', 'learning_rate': '0.01', 'optimizer': 'adam', 'momentum': '0.9', 'weight_decay': '0.01', 'l2_regul': '0.01', 'dropout': '0.1', 'cnn': \"[{'filters': 32, 'kernel': '(3, 3)', 'activation': 'relu', 'padding': 'same'}, {'filters': 32, 'kernel': '(3, 3)', 'activation': 'relu', 'padding': 'same'}]\", 'dense': \"[{'units': 128, 'activation': 'relu'}]\"}\n",
      "\u001b[36malgo-1-e1s31_1  |\u001b[0m Model: \"model\"\n",
      "\u001b[36malgo-1-e1s31_1  |\u001b[0m _________________________________________________________________\n",
      "\u001b[36malgo-1-e1s31_1  |\u001b[0m Layer (type)                 Output Shape              Param #   \n",
      "\u001b[36malgo-1-e1s31_1  |\u001b[0m =================================================================\n",
      "\u001b[36malgo-1-e1s31_1  |\u001b[0m input_1 (InputLayer)         [(None, 28, 28, 1)]       0         \n",
      "\u001b[36malgo-1-e1s31_1  |\u001b[0m _________________________________________________________________\n",
      "\u001b[36malgo-1-e1s31_1  |\u001b[0m conv2d (Conv2D)              (None, 28, 28, 32)        320       \n",
      "\u001b[36malgo-1-e1s31_1  |\u001b[0m _________________________________________________________________\n",
      "\u001b[36malgo-1-e1s31_1  |\u001b[0m batch_normalization (BatchNo (None, 28, 28, 32)        128       \n",
      "\u001b[36malgo-1-e1s31_1  |\u001b[0m _________________________________________________________________\n",
      "\u001b[36malgo-1-e1s31_1  |\u001b[0m max_pooling2d (MaxPooling2D) (None, 14, 14, 32)        0         \n",
      "\u001b[36malgo-1-e1s31_1  |\u001b[0m _________________________________________________________________\n",
      "\u001b[36malgo-1-e1s31_1  |\u001b[0m conv2d_1 (Conv2D)            (None, 14, 14, 32)        9248      \n",
      "\u001b[36malgo-1-e1s31_1  |\u001b[0m _________________________________________________________________\n",
      "\u001b[36malgo-1-e1s31_1  |\u001b[0m batch_normalization_1 (Batch (None, 14, 14, 32)        128       \n",
      "\u001b[36malgo-1-e1s31_1  |\u001b[0m _________________________________________________________________\n",
      "\u001b[36malgo-1-e1s31_1  |\u001b[0m max_pooling2d_1 (MaxPooling2 (None, 7, 7, 32)          0         \n",
      "\u001b[36malgo-1-e1s31_1  |\u001b[0m _________________________________________________________________\n",
      "\u001b[36malgo-1-e1s31_1  |\u001b[0m flatten (Flatten)            (None, 1568)              0         \n",
      "\u001b[36malgo-1-e1s31_1  |\u001b[0m _________________________________________________________________\n",
      "\u001b[36malgo-1-e1s31_1  |\u001b[0m dense (Dense)                (None, 128)               200832    \n",
      "\u001b[36malgo-1-e1s31_1  |\u001b[0m _________________________________________________________________\n",
      "\u001b[36malgo-1-e1s31_1  |\u001b[0m dropout (Dropout)            (None, 128)               0         \n",
      "\u001b[36malgo-1-e1s31_1  |\u001b[0m _________________________________________________________________\n",
      "\u001b[36malgo-1-e1s31_1  |\u001b[0m dense_1 (Dense)              (None, 10)                1290      \n",
      "\u001b[36malgo-1-e1s31_1  |\u001b[0m =================================================================\n",
      "\u001b[36malgo-1-e1s31_1  |\u001b[0m Total params: 211,946\n",
      "\u001b[36malgo-1-e1s31_1  |\u001b[0m Trainable params: 211,818\n",
      "\u001b[36malgo-1-e1s31_1  |\u001b[0m Non-trainable params: 128\n",
      "\u001b[36malgo-1-e1s31_1  |\u001b[0m _________________________________________________________________\n",
      "\u001b[36malgo-1-e1s31_1  |\u001b[0m None\n",
      "\u001b[36malgo-1-e1s31_1  |\u001b[0m INFO:root:------ Executing training ------\n",
      "\u001b[36malgo-1-e1s31_1  |\u001b[0m INFO:root:-------- Scores --------\n",
      "\u001b[36malgo-1-e1s31_1  |\u001b[0m INFO:root:Test loss:0.11809377819299698\n",
      "\u001b[36malgo-1-e1s31_1  |\u001b[0m INFO:root:Test accuracy:0.987500011920929\n",
      "\u001b[36malgo-1-e1s31_1  |\u001b[0m INFO:root:-------- Storing models & information --------\n",
      "\u001b[36malgo-1-e1s31_1  |\u001b[0m 2020-11-03 17:37:45.660447: W tensorflow/python/util/util.cc:319] Sets are not currently considered sequences, but this may change in the future, so consider avoiding using them.\n",
      "\u001b[36malgo-1-e1s31_1  |\u001b[0m WARNING:tensorflow:From /usr/local/lib/python3.6/dist-packages/tensorflow_core/python/ops/resource_variable_ops.py:1786: calling BaseResourceVariable.__init__ (from tensorflow.python.ops.resource_variable_ops) with constraint is deprecated and will be removed in a future version.\n",
      "\u001b[36malgo-1-e1s31_1  |\u001b[0m Instructions for updating:\n",
      "\u001b[36malgo-1-e1s31_1  |\u001b[0m If using Keras pass *_constraint arguments to layers.\n",
      "\u001b[36malgo-1-e1s31_1  |\u001b[0m WARNING:tensorflow:From /usr/local/lib/python3.6/dist-packages/tensorflow_core/python/ops/resource_variable_ops.py:1786: calling BaseResourceVariable.__init__ (from tensorflow.python.ops.resource_variable_ops) with constraint is deprecated and will be removed in a future version.\n",
      "\u001b[36malgo-1-e1s31_1  |\u001b[0m Instructions for updating:\n",
      "\u001b[36malgo-1-e1s31_1  |\u001b[0m If using Keras pass *_constraint arguments to layers.\n",
      "\u001b[36malgo-1-e1s31_1  |\u001b[0m INFO:tensorflow:Assets written to: /opt/ml/model/000000001/assets\n",
      "\u001b[36malgo-1-e1s31_1  |\u001b[0m INFO:tensorflow:Assets written to: /opt/ml/model/000000001/assets\n",
      "\u001b[36malgo-1-e1s31_1  |\u001b[0m 2020-11-03 17:37:46,871 sagemaker-containers INFO     Reporting training SUCCESS\n",
      "\u001b[36mtmpcwpo8ped_algo-1-e1s31_1 exited with code 0\n",
      "\u001b[0mAborting on container exit...\n",
      "===== Job Complete =====\n"
     ]
    }
   ],
   "source": [
    "estimator.fit({\"train\": TRAIN_DATA_S3_LOCATION, \"test\": TEST_DATA_S3_LOCATION})"
   ]
  },
  {
   "cell_type": "code",
   "execution_count": 12,
   "metadata": {},
   "outputs": [
    {
     "name": "stdout",
     "output_type": "stream",
     "text": [
      "mnist-tf2-keras-model-training-job-2020-11-03-17-35-34-837\n",
      "endpoint-tf2-keras-mnist-local\n"
     ]
    }
   ],
   "source": [
    "# -------- LOCAL DEPLOY ---------\n",
    "latest_training_job = estimator.latest_training_job.name\n",
    "print(latest_training_job)\n",
    "\n",
    "local_endpoint_name = f\"endpoint-tf2-keras-mnist-local\"\n",
    "print(local_endpoint_name)"
   ]
  },
  {
   "cell_type": "code",
   "execution_count": null,
   "metadata": {},
   "outputs": [],
   "source": [
    "local_predictor = estimator.deploy(endpoint_name=local_endpoint_name, initial_instance_count=1, instance_type='local')"
   ]
  },
  {
   "cell_type": "code",
   "execution_count": null,
   "metadata": {},
   "outputs": [],
   "source": [
    "local_predictor.predict(five_arr)"
   ]
  },
  {
   "cell_type": "markdown",
   "metadata": {},
   "source": [
    "## Deployment to a SageMaker Endpoint"
   ]
  },
  {
   "cell_type": "code",
   "execution_count": 20,
   "metadata": {},
   "outputs": [
    {
     "name": "stdout",
     "output_type": "stream",
     "text": [
      "Latest training job : mnist-tf2-keras-model-training-job-2020-10-26-11-48-08-659\n",
      "Model name : model-tf2-keras-mnist-2020-10-26-11-53-48\n",
      "Endpoint configuration name : endpoint-configuration-tf2-keras-mnist-2020-10-26-11-53-48\n",
      "Endpoint name : endpoint-tf2-keras-mnist-2020-10-26-11-53-48\n"
     ]
    }
   ],
   "source": [
    "# -------- SAGEMAKER DEPLOY ---------\n",
    "latest_training_job = estimator.latest_training_job.name\n",
    "print(\"Latest training job :\", latest_training_job)\n",
    "\n",
    "_id = \"\"\n",
    "model_name = \"model-tf2-keras-mnist-\"+str(datetime.datetime.now().strftime(\"%Y-%m-%d-%H-%M-%S\"))\n",
    "endpoint_configuration_name = f\"endpoint-configuration-tf2-keras-mnist-\"+str(datetime.datetime.now().strftime(\"%Y-%m-%d-%H-%M-%S\"))\n",
    "endpoint_name = f\"endpoint-tf2-keras-mnist-\"+str(datetime.datetime.now().strftime(\"%Y-%m-%d-%H-%M-%S\"))\n",
    "print(\"Model name :\", model_name)\n",
    "print(\"Endpoint configuration name :\", endpoint_configuration_name)\n",
    "print(\"Endpoint name :\", endpoint_name)"
   ]
  },
  {
   "cell_type": "code",
   "execution_count": 21,
   "metadata": {},
   "outputs": [],
   "source": [
    "# ----- sagemaker version <=1.17 ---------\n",
    "#tf_model = sagemaker.tensorflow.serving.Model(\n",
    "#    source_dir=\"../source_dir\",\n",
    "#    entry_point=ENTRY_POINT_INFERENCE,\n",
    "#    framework_version=FRAMEWORK_VERSION,\n",
    "#    model_data=f\"s3://{DEFAULT_BUCKET}/{PROJECT_ID}/training/{latest_training_job}/model.tar.gz\",\n",
    "#    name=model_name,\n",
    "#    role=get_execution_role())\n",
    "\n",
    "# ----- sagemaker version >= 2.15.0 -------\n",
    "tf_model = TensorFlowModel(\n",
    "              entry_point=ENTRY_POINT_INFERENCE,\n",
    "              source_dir='../source_dir',\n",
    "              framework_version=FRAMEWORK_VERSION,\n",
    "              model_data=f\"s3://{DEFAULT_BUCKET}/{PROJECT_ID}/training/{latest_training_job}/model.tar.gz\",\n",
    "              code_location=CUSTOM_CODE_SERVING_UPLOAD_S3_LOCATION,\n",
    "              name=model_name,\n",
    "              role=get_execution_role(),\n",
    "              sagemaker_session=SESS)"
   ]
  },
  {
   "cell_type": "markdown",
   "metadata": {},
   "source": [
    "We are going to execute three steps to divide the easy way of deploy an endpoint.\n",
    "\n",
    "Normally you can simply deploy your model to an endpoint thanks to :"
   ]
  },
  {
   "cell_type": "code",
   "execution_count": 22,
   "metadata": {},
   "outputs": [
    {
     "name": "stderr",
     "output_type": "stream",
     "text": [
      "update_endpoint is a no-op in sagemaker>=2.\n",
      "See: https://sagemaker.readthedocs.io/en/stable/v2.html for details.\n"
     ]
    },
    {
     "name": "stdout",
     "output_type": "stream",
     "text": [
      "-----------------!"
     ]
    }
   ],
   "source": [
    "predictor = tf_model.deploy(endpoint_name=endpoint_name, instance_type='ml.p2.xlarge', initial_instance_count=1)"
   ]
  },
  {
   "cell_type": "markdown",
   "metadata": {},
   "source": [
    "Here we are going to do :\n",
    "1. Create the model - container + code\n",
    "2. Create an endpoint configuration for the model\n",
    "3. Create an endpoint finally"
   ]
  },
  {
   "cell_type": "code",
   "execution_count": 85,
   "metadata": {},
   "outputs": [
    {
     "name": "stdout",
     "output_type": "stream",
     "text": [
      "{'Image': '763104351884.dkr.ecr.eu-west-1.amazonaws.com/tensorflow-inference:2.1.0-gpu', 'Environment': {}, 'ModelDataUrl': 's3://sagemaker-eu-west-1-288840635390/mnist-tensorflow2-scriptmode/serving-model/model-tf2-keras-mnist-2020-10-13-16-47-06/model.tar.gz'}\n"
     ]
    }
   ],
   "source": [
    "create_model_def = tf_model.prepare_container_def(instance_type=\"ml.p2.xlarge\")\n",
    "print(create_model_def)"
   ]
  },
  {
   "cell_type": "code",
   "execution_count": 90,
   "metadata": {},
   "outputs": [],
   "source": [
    "sm_client = boto3.client('sagemaker')"
   ]
  },
  {
   "cell_type": "code",
   "execution_count": 86,
   "metadata": {},
   "outputs": [
    {
     "name": "stdout",
     "output_type": "stream",
     "text": [
      "{'ModelArn': 'arn:aws:sagemaker:eu-west-1:288840635390:model/model-tf2-keras-mnist-2020-10-13-16-47-06', 'ResponseMetadata': {'RequestId': '6e1392ac-dc58-4abc-8129-115984ad5e45', 'HTTPStatusCode': 200, 'HTTPHeaders': {'x-amzn-requestid': '6e1392ac-dc58-4abc-8129-115984ad5e45', 'content-type': 'application/x-amz-json-1.1', 'content-length': '103', 'date': 'Tue, 13 Oct 2020 16:47:23 GMT'}, 'RetryAttempts': 0}}\n"
     ]
    }
   ],
   "source": [
    "# ------ SAGEMAKER MODEL CREATION ------\n",
    "sagemaker_model = sm_client.create_model(\n",
    "                      ModelName=model_name,\n",
    "                      PrimaryContainer={\n",
    "                          'Image': create_model_def[\"Image\"],\n",
    "                          'Mode': 'SingleModel',\n",
    "                          'ModelDataUrl': create_model_def[\"ModelDataUrl\"],\n",
    "                          'Environment': create_model_def[\"Environment\"]\n",
    "                      },\n",
    "                      ExecutionRoleArn=get_execution_role())\n",
    "print(sagemaker_model)"
   ]
  },
  {
   "cell_type": "code",
   "execution_count": 47,
   "metadata": {},
   "outputs": [
    {
     "name": "stdout",
     "output_type": "stream",
     "text": [
      "{'EndpointConfigArn': 'arn:aws:sagemaker:eu-west-1:288840635390:endpoint-config/endpoint-configuration-tf2-keras-mnist-2020-10-13-15-30-53', 'ResponseMetadata': {'RequestId': '31535d21-1af7-42dc-bb2a-7da492964373', 'HTTPStatusCode': 200, 'HTTPHeaders': {'x-amzn-requestid': '31535d21-1af7-42dc-bb2a-7da492964373', 'content-type': 'application/x-amz-json-1.1', 'content-length': '139', 'date': 'Tue, 13 Oct 2020 15:45:53 GMT'}, 'RetryAttempts': 0}}\n"
     ]
    }
   ],
   "source": [
    "# ------ SAGEMAKER ENDPOINT CONFIGURATION CREATION ------ \n",
    "endpoint_config = sm_client.create_endpoint_config(\n",
    "                    EndpointConfigName=endpoint_configuration_name,\n",
    "                    ProductionVariants=[\n",
    "                        {\n",
    "                            'VariantName': \"model1\",\n",
    "                            'ModelName': model_name,\n",
    "                            'InitialInstanceCount': 1,\n",
    "                            'InstanceType': 'ml.t2.medium',\n",
    "                            'InitialVariantWeight': 1\n",
    "                        },\n",
    "                        {\n",
    "                            'VariantName': \"model1\",\n",
    "                            'ModelName': model_name,\n",
    "                            'InitialInstanceCount': 1,\n",
    "                            'InstanceType': 'ml.t2.medium',\n",
    "                            'InitialVariantWeight': 1\n",
    "                        }\n",
    "                    ],\n",
    "                    DataCaptureConfig={\n",
    "                        'EnableCapture': True,\n",
    "                        'InitialSamplingPercentage': 100,\n",
    "                        'DestinationS3Uri': f\"s3://{DEFAULT_BUCKET}/{PROJECT_ID}/inference\",\n",
    "                        'CaptureOptions': [\n",
    "                            {\n",
    "                                'CaptureMode': 'Input'\n",
    "                            },\n",
    "                            {\n",
    "                                'CaptureMode': 'Output'\n",
    "                            }\n",
    "                        ]\n",
    "                    })\n",
    "print(endpoint_config)"
   ]
  },
  {
   "cell_type": "code",
   "execution_count": 49,
   "metadata": {},
   "outputs": [
    {
     "name": "stdout",
     "output_type": "stream",
     "text": [
      "{'EndpointArn': 'arn:aws:sagemaker:eu-west-1:288840635390:endpoint/endpoint-tf2-keras-mnist-2020-10-13-15-30-53', 'ResponseMetadata': {'RequestId': '64e62ee9-e97e-41f1-bdba-289e5dbb685b', 'HTTPStatusCode': 200, 'HTTPHeaders': {'x-amzn-requestid': '64e62ee9-e97e-41f1-bdba-289e5dbb685b', 'content-type': 'application/x-amz-json-1.1', 'content-length': '112', 'date': 'Tue, 13 Oct 2020 15:48:07 GMT'}, 'RetryAttempts': 0}}\n"
     ]
    }
   ],
   "source": [
    "sagemaker_endpoint = sm_client.create_endpoint(\n",
    "                        EndpointName=endpoint_name,\n",
    "                        EndpointConfigName=endpoint_configuration_name)\n",
    "print(sagemaker_endpoint)"
   ]
  },
  {
   "cell_type": "markdown",
   "metadata": {},
   "source": [
    "## Production Variant and A/B Testing"
   ]
  },
  {
   "cell_type": "markdown",
   "metadata": {},
   "source": [
    "Before doing this you should before retrain another model and create a new Model entity based on this new model."
   ]
  },
  {
   "cell_type": "code",
   "execution_count": 94,
   "metadata": {},
   "outputs": [
    {
     "name": "stdout",
     "output_type": "stream",
     "text": [
      "['model-tf2-keras-mnist-2020-10-13-16-47-06', 'model-tf2-keras-mnist-2020-10-13-15-30-53']\n"
     ]
    }
   ],
   "source": [
    "list_models = [model_info[\"ModelName\"] for model_info in sm_client.list_models()[\"Models\"]]\n",
    "print(list_models)"
   ]
  },
  {
   "cell_type": "code",
   "execution_count": 93,
   "metadata": {},
   "outputs": [
    {
     "name": "stdout",
     "output_type": "stream",
     "text": [
      "{'EndpointConfigArn': 'arn:aws:sagemaker:eu-west-1:288840635390:endpoint-config/ept-config-multi-tf2-keras-mnist-2020-10-13-16-55-55', 'ResponseMetadata': {'RequestId': 'ce8ecef4-7d2d-4383-804f-e1f5d5a7b2e0', 'HTTPStatusCode': 200, 'HTTPHeaders': {'x-amzn-requestid': 'ce8ecef4-7d2d-4383-804f-e1f5d5a7b2e0', 'content-type': 'application/x-amz-json-1.1', 'content-length': '133', 'date': 'Tue, 13 Oct 2020 16:55:55 GMT'}, 'RetryAttempts': 0}}\n"
     ]
    }
   ],
   "source": [
    "assert(len(list_models) == 2)\n",
    "multi_models_endpoint_config_name = f\"ept-config-multi-tf2-keras-mnist-\"+str(datetime.datetime.now().strftime(\"%Y-%m-%d-%H-%M-%S\"))\n",
    "multi_models_endpoint_config = sm_client.create_endpoint_config(\n",
    "                                    EndpointConfigName=multi_models_endpoint_config_name,\n",
    "                                    ProductionVariants=[\n",
    "                                        {\n",
    "                                            'VariantName': \"model1\",\n",
    "                                            'ModelName': list_models[0],\n",
    "                                            'InitialInstanceCount': 1,\n",
    "                                            'InstanceType': 'ml.t2.medium',\n",
    "                                            'InitialVariantWeight': 0.5\n",
    "                                        },\n",
    "                                        {\n",
    "                                            'VariantName': \"model2\",\n",
    "                                            'ModelName': list_models[1],\n",
    "                                            'InitialInstanceCount': 1,\n",
    "                                            'InstanceType': 'ml.t2.medium',\n",
    "                                            'InitialVariantWeight': 0.5\n",
    "                                        }\n",
    "                                    ])\n",
    "print(multi_models_endpoint_config)"
   ]
  },
  {
   "cell_type": "markdown",
   "metadata": {},
   "source": [
    "## Get predictions"
   ]
  },
  {
   "cell_type": "code",
   "execution_count": 25,
   "metadata": {},
   "outputs": [],
   "source": [
    "# prediction service\n",
    "runtime = boto3.client('sagemaker-runtime')"
   ]
  },
  {
   "cell_type": "markdown",
   "metadata": {},
   "source": [
    "### Using the invoke endpoint"
   ]
  },
  {
   "cell_type": "markdown",
   "metadata": {},
   "source": [
    "This is useful when you only need to invoke the endpoint once."
   ]
  },
  {
   "cell_type": "code",
   "execution_count": 26,
   "metadata": {},
   "outputs": [
    {
     "data": {
      "text/plain": [
       "{'predictions': [[4.09608674e-06,\n",
       "   3.01769802e-07,\n",
       "   4.25787732e-07,\n",
       "   0.00042130964,\n",
       "   1.21807134e-05,\n",
       "   0.976147771,\n",
       "   0.000165230507,\n",
       "   1.15498744e-06,\n",
       "   0.000163593912,\n",
       "   0.0230839979],\n",
       "  [0.00165798888,\n",
       "   0.00751685444,\n",
       "   0.00448381202,\n",
       "   0.00165989914,\n",
       "   0.943219125,\n",
       "   0.00763144158,\n",
       "   0.0267933253,\n",
       "   0.00343788089,\n",
       "   0.0010305742,\n",
       "   0.00256915577]]}"
      ]
     },
     "execution_count": 26,
     "metadata": {},
     "output_type": "execute_result"
    }
   ],
   "source": [
    "# csv serialization\n",
    "response = runtime.invoke_endpoint(\n",
    "    EndpointName=endpoint_name,\n",
    "    Body=csv_input,\n",
    "    ContentType='text/csv')\n",
    "\n",
    "json.loads(response['Body'].read().decode(\"utf-8\"))"
   ]
  },
  {
   "cell_type": "code",
   "execution_count": 110,
   "metadata": {},
   "outputs": [
    {
     "data": {
      "text/plain": [
       "{'predictions': [[3.96816213e-05,\n",
       "   3.19169317e-07,\n",
       "   3.04262016e-07,\n",
       "   0.00028424745,\n",
       "   2.87641251e-05,\n",
       "   0.992996275,\n",
       "   0.000425830105,\n",
       "   1.05173922e-05,\n",
       "   0.000281373184,\n",
       "   0.00593271479],\n",
       "  [0.00738942856,\n",
       "   0.011011513,\n",
       "   0.00777793443,\n",
       "   0.000898721046,\n",
       "   0.935718,\n",
       "   0.00152082252,\n",
       "   0.00536923716,\n",
       "   0.0139825959,\n",
       "   0.000997162424,\n",
       "   0.015334676]]}"
      ]
     },
     "execution_count": 110,
     "metadata": {},
     "output_type": "execute_result"
    }
   ],
   "source": [
    "# csv serialization\n",
    "response = runtime.invoke_endpoint(\n",
    "    EndpointName=endpoint_name,\n",
    "    Body=json_input,\n",
    "    ContentType='application/json')\n",
    "\n",
    "json.loads(response['Body'].read().decode(\"utf-8\"))"
   ]
  },
  {
   "cell_type": "markdown",
   "metadata": {},
   "source": [
    "### Real Time Predictor"
   ]
  },
  {
   "cell_type": "markdown",
   "metadata": {},
   "source": [
    "This can be useful if you wish to invoke the endpoint more than once."
   ]
  },
  {
   "cell_type": "code",
   "execution_count": null,
   "metadata": {},
   "outputs": [],
   "source": [
    "csv_rtp = TensorFlowPredictor(endpoint_name=endpoint_name, serializer=sagemaker.serializers.CSVSerializer())\n",
    "csv_rtp.predict(csv_input)"
   ]
  }
 ],
 "metadata": {
  "kernelspec": {
   "display_name": "conda_amazonei_tensorflow2_p36",
   "language": "python",
   "name": "conda_amazonei_tensorflow2_p36"
  },
  "language_info": {
   "codemirror_mode": {
    "name": "ipython",
    "version": 3
   },
   "file_extension": ".py",
   "mimetype": "text/x-python",
   "name": "python",
   "nbconvert_exporter": "python",
   "pygments_lexer": "ipython3",
   "version": "3.6.10"
  }
 },
 "nbformat": 4,
 "nbformat_minor": 4
}
